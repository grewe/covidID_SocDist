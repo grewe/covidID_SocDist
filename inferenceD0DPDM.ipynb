{
  "nbformat": 4,
  "nbformat_minor": 0,
  "metadata": {
    "colab": {
      "name": "inferenceD0DPDM.ipynb",
      "provenance": [],
      "mount_file_id": "19Wq0FY-rlkZTDcvWkwAAVk8fRYgswkwl",
      "authorship_tag": "ABX9TyO3h7W0jW/FJFDs09KoWnuE",
      "include_colab_link": true
    },
    "kernelspec": {
      "name": "python3",
      "display_name": "Python 3"
    }
  },
  "cells": [
    {
      "cell_type": "markdown",
      "metadata": {
        "id": "view-in-github",
        "colab_type": "text"
      },
      "source": [
        "<a href=\"https://colab.research.google.com/github/grewe/covidID_SocDist/blob/master/inferenceD0DPDM.ipynb\" target=\"_parent\"><img src=\"https://colab.research.google.com/assets/colab-badge.svg\" alt=\"Open In Colab\"/></a>"
      ]
    },
    {
      "cell_type": "code",
      "metadata": {
        "id": "OXPclZfHKil-"
      },
      "source": [
        "models_dir =\"/content/drive/My Drive/SocialDistance/DPDM/EfficientDetD0/models\""
      ],
      "execution_count": 3,
      "outputs": []
    },
    {
      "cell_type": "code",
      "metadata": {
        "id": "OnJrPxbSJ8Fd",
        "outputId": "954bcab4-3a2e-40bd-f103-a0b13b77ada1",
        "colab": {
          "base_uri": "https://localhost:8080/",
          "height": 769
        }
      },
      "source": [
        "!printenv\n",
        "%pwd\n",
        "%cd {models_dir}\n",
        "%pwd\n"
      ],
      "execution_count": 4,
      "outputs": [
        {
          "output_type": "stream",
          "text": [
            "CUDNN_VERSION=7.6.5.32\n",
            "LD_LIBRARY_PATH=/usr/local/nvidia/lib:/usr/local/nvidia/lib64\n",
            "CLOUDSDK_PYTHON=python3\n",
            "_=/usr/bin/printenv\n",
            "LANG=en_US.UTF-8\n",
            "HOSTNAME=509fd769ba8d\n",
            "OLDPWD=/\n",
            "CLOUDSDK_CONFIG=/content/.config\n",
            "NVIDIA_VISIBLE_DEVICES=all\n",
            "DATALAB_SETTINGS_OVERRIDES={\"kernelManagerProxyPort\":6000,\"kernelManagerProxyHost\":\"172.28.0.3\",\"jupyterArgs\":[\"--ip=\\\"172.28.0.2\\\"\"]}\n",
            "ENV=/root/.bashrc\n",
            "PAGER=cat\n",
            "NCCL_VERSION=2.7.8\n",
            "TF_FORCE_GPU_ALLOW_GROWTH=true\n",
            "JPY_PARENT_PID=25\n",
            "NO_GCE_CHECK=True\n",
            "PWD=/content\n",
            "HOME=/root\n",
            "LAST_FORCED_REBUILD=20200910\n",
            "CLICOLOR=1\n",
            "DEBIAN_FRONTEND=noninteractive\n",
            "LIBRARY_PATH=/usr/local/cuda/lib64/stubs\n",
            "GCE_METADATA_TIMEOUT=0\n",
            "GLIBCPP_FORCE_NEW=1\n",
            "TBE_CREDS_ADDR=172.28.0.1:8008\n",
            "TERM=xterm-color\n",
            "SHELL=/bin/bash\n",
            "GCS_READ_CACHE_BLOCK_SIZE_MB=16\n",
            "PYTHONWARNINGS=ignore:::pip._internal.cli.base_command\n",
            "MPLBACKEND=module://ipykernel.pylab.backend_inline\n",
            "CUDA_PKG_VERSION=10-1=10.1.243-1\n",
            "CUDA_VERSION=10.1.243\n",
            "NVIDIA_DRIVER_CAPABILITIES=compute,utility\n",
            "SHLVL=2\n",
            "PYTHONPATH=/env/python\n",
            "NVIDIA_REQUIRE_CUDA=cuda>=10.1 brand=tesla,driver>=396,driver<397 brand=tesla,driver>=410,driver<411 brand=tesla,driver>=418,driver<419\n",
            "COLAB_GPU=0\n",
            "GLIBCXX_FORCE_NEW=1\n",
            "PATH=/usr/local/nvidia/bin:/usr/local/cuda/bin:/usr/local/sbin:/usr/local/bin:/usr/sbin:/usr/bin:/sbin:/bin:/tools/node/bin:/tools/google-cloud-sdk/bin:/opt/bin\n",
            "LD_PRELOAD=/usr/lib/x86_64-linux-gnu/libtcmalloc.so.4\n",
            "GIT_PAGER=cat\n",
            "/content/drive/My Drive/SocialDistance/DPDM/EfficientDetD0/models\n"
          ],
          "name": "stdout"
        },
        {
          "output_type": "execute_result",
          "data": {
            "application/vnd.google.colaboratory.intrinsic+json": {
              "type": "string"
            },
            "text/plain": [
              "'/content/drive/My Drive/SocialDistance/DPDM/EfficientDetD0/models'"
            ]
          },
          "metadata": {
            "tags": []
          },
          "execution_count": 4
        }
      ]
    },
    {
      "cell_type": "code",
      "metadata": {
        "id": "7F0yLCDVKsel"
      },
      "source": [
        ""
      ],
      "execution_count": null,
      "outputs": []
    },
    {
      "cell_type": "code",
      "metadata": {
        "id": "wo8SvamqKKJW"
      },
      "source": [
        "model_dir = \"/content/drive/'My Drive'/SocialDistance/DPDM/EfficientDetD0/training/\"\n",
        "models_research_dir = \"/content/drive/'My Drive'/SocialDistance/DPDM/EfficientDetD0/models/research/\""
      ],
      "execution_count": 6,
      "outputs": []
    },
    {
      "cell_type": "code",
      "metadata": {
        "id": "7fQ2_6xgKtGI",
        "outputId": "90993b4f-826f-45eb-a77a-baedb100c84d",
        "colab": {
          "base_uri": "https://localhost:8080/",
          "height": 190
        }
      },
      "source": [
        "# MUST do each time restart colab kernel\n",
        "# INSTALL Object Detection API inside the Colab, as sits above TF2\n",
        "# this will take several minutes as it will copy over all of the object_detection files\n",
        "# you have mounted in project_folder/models/research/object_detection\n",
        "# as you can see by the output of this cell it copies them into the colab\n",
        "# environment at build/lib/object_detection\n",
        "\n",
        "#this this is what I need to make the object_detection get installed\n",
        "\n",
        "print(models_research_dir)\n",
        "%cd {models_research_dir}\n",
        "#%ls\n",
        "#!python setup.py install   # from the models/reasearch\n",
        "\n",
        "\n",
        "#install tf_slim\n",
        "!pip install tf_slim"
      ],
      "execution_count": 7,
      "outputs": [
        {
          "output_type": "stream",
          "text": [
            "/content/drive/'My Drive'/SocialDistance/DPDM/EfficientDetD0/models/research/\n",
            "/content/drive/My Drive/SocialDistance/DPDM/EfficientDetD0/models/research\n",
            "Collecting tf_slim\n",
            "\u001b[?25l  Downloading https://files.pythonhosted.org/packages/02/97/b0f4a64df018ca018cc035d44f2ef08f91e2e8aa67271f6f19633a015ff7/tf_slim-1.1.0-py2.py3-none-any.whl (352kB)\n",
            "\u001b[K     |████████████████████████████████| 358kB 2.4MB/s \n",
            "\u001b[?25hRequirement already satisfied: absl-py>=0.2.2 in /usr/local/lib/python3.6/dist-packages (from tf_slim) (0.10.0)\n",
            "Requirement already satisfied: six in /usr/local/lib/python3.6/dist-packages (from absl-py>=0.2.2->tf_slim) (1.15.0)\n",
            "Installing collected packages: tf-slim\n",
            "Successfully installed tf-slim-1.1.0\n"
          ],
          "name": "stdout"
        }
      ]
    },
    {
      "cell_type": "code",
      "metadata": {
        "id": "eYyKurOYL03c",
        "outputId": "7b948f9c-e54f-462b-e572-123f0a3244f0",
        "colab": {
          "base_uri": "https://localhost:8080/",
          "height": 69
        }
      },
      "source": [
        "!pwd\n",
        "%cd {models_dir}\n",
        "%pwd"
      ],
      "execution_count": 10,
      "outputs": [
        {
          "output_type": "stream",
          "text": [
            "/content/drive/My Drive/SocialDistance/DPDM/EfficientDetD0/models/research\n",
            "/content/drive/My Drive/SocialDistance/DPDM/EfficientDetD0/models\n"
          ],
          "name": "stdout"
        },
        {
          "output_type": "execute_result",
          "data": {
            "application/vnd.google.colaboratory.intrinsic+json": {
              "type": "string"
            },
            "text/plain": [
              "'/content/drive/My Drive/SocialDistance/DPDM/EfficientDetD0/models'"
            ]
          },
          "metadata": {
            "tags": []
          },
          "execution_count": 10
        }
      ]
    },
    {
      "cell_type": "code",
      "metadata": {
        "id": "JC_a2NFtaO5Z"
      },
      "source": [
        "import matplotlib\n",
        "import matplotlib.pyplot as plt\n",
        "\n",
        "import io\n",
        "import scipy.misc\n",
        "import os\n",
        "import numpy as np\n",
        "from six import BytesIO\n",
        "from PIL import Image, ImageDraw, ImageFont\n",
        "import cv2\n",
        "\n",
        "import tensorflow as tf\n",
        "\n",
        "from object_detection.utils import label_map_util\n",
        "from object_detection.utils import config_util\n",
        "from object_detection.utils import visualization_utils as viz_utils\n",
        "from object_detection.builders import model_builder\n",
        "\n",
        "%matplotlib inline"
      ],
      "execution_count": 11,
      "outputs": []
    },
    {
      "cell_type": "code",
      "metadata": {
        "id": "DSPU5qnULlh9"
      },
      "source": [
        ""
      ],
      "execution_count": null,
      "outputs": []
    },
    {
      "cell_type": "code",
      "metadata": {
        "id": "AW1IlDPHZ2hn"
      },
      "source": [
        "def plot_detections(image_np,\n",
        "                    boxes,\n",
        "                    classes,\n",
        "                    scores,\n",
        "                    category_index,\n",
        "                    figsize=(12, 16),\n",
        "                    image_name=None):\n",
        "  \"\"\"Wrapper function to visualize detections.\n",
        "\n",
        "  Args:\n",
        "    image_np: uint8 numpy array with shape (img_height, img_width, 3)\n",
        "    boxes: a numpy array of shape [N, 4]\n",
        "    classes: a numpy array of shape [N]. Note that class indices are 1-based,\n",
        "      and match the keys in the label map.\n",
        "    scores: a numpy array of shape [N] or None.  If scores=None, then\n",
        "      this function assumes that the boxes to be plotted are groundtruth\n",
        "      boxes and plot all boxes as black with no classes or scores.\n",
        "    category_index: a dict containing category dictionaries (each holding\n",
        "      category index `id` and category name `name`) keyed by category indices.\n",
        "    figsize: size for the figure.\n",
        "    image_name: a name for the image file.\n",
        "  \"\"\"\n",
        "  image_np_with_annotations = image_np.copy()\n",
        "  viz_utils.visualize_boxes_and_labels_on_image_array(\n",
        "      image_np_with_annotations,\n",
        "      boxes,\n",
        "      classes,\n",
        "      scores,\n",
        "      category_index,\n",
        "      use_normalized_coordinates=True,\n",
        "      min_score_thresh=0.8)\n",
        "  if image_name:\n",
        "    plt.imsave(image_name, image_np_with_annotations)\n",
        "  else:\n",
        "    plt.imshow(image_np_with_annotations)\n",
        "\n",
        "def load_image_into_numpy_array(path):\n",
        "  \"\"\"Load an image from file into a numpy array.\n",
        "\n",
        "  Puts image into numpy array to feed into tensorflow graph.\n",
        "  Note that by convention we put it into a numpy array with shape\n",
        "  (height, width, channels), where channels=3 for RGB.\n",
        "\n",
        "  Args:\n",
        "    path: the file path to the image\n",
        "\n",
        "  Returns:\n",
        "    uint8 numpy array with shape (img_height, img_width, 3)\n",
        "  \"\"\"\n",
        "  img_data = tf.io.gfile.GFile(path, 'rb').read()\n",
        "  image = Image.open(BytesIO(img_data))\n",
        "  (im_width, im_height) = image.size\n",
        "  return np.array(image.getdata()).reshape(\n",
        "      (im_height, im_width, 3)).astype(np.uint8)\n",
        "\n",
        "def load_grayscale_image_into_numpy_array(path):\n",
        "  # read in image as grayscale cv2 image\n",
        "  img = cv2.imread(path, cv2.IMREAD_GRAYSCALE)\n",
        "  # convert image to rgb\n",
        "  backtorgb = cv2.cvtColor(img,cv2.COLOR_GRAY2RGB)\n",
        "  return backtorgb.astype(np.uint8)"
      ],
      "execution_count": 12,
      "outputs": []
    },
    {
      "cell_type": "code",
      "metadata": {
        "id": "RniaBoQ6MDML"
      },
      "source": [
        "def load_rgb_image_into_numpy_array(path):\n",
        "  # read in image as grayscale cv2 image\n",
        "  img = cv2.imread(path, cv2.IMREAD_COLOR)\n",
        "  return img\n",
        "  # convert image to rgb\n",
        "  #backtorgb = cv2.cvtColor(img,cv2.COLOR_GRAY2RGB)\n",
        "  #return backtorgb.astype(np.uint8)"
      ],
      "execution_count": 13,
      "outputs": []
    },
    {
      "cell_type": "code",
      "metadata": {
        "id": "Vdebm5Shmwrd"
      },
      "source": [
        "pipeline_file = '/content/drive/My Drive/SocialDistance/DPDM/EfficientDetD0/fine_tuned_model/pipeline.config'\n",
        "#recover our saved model\n",
        "pipeline_config = pipeline_file\n",
        "#generally you want to put the last ckpt from training in here\n",
        "model_dir = '/content/drive/My Drive/SocialDistance/DPDM/EfficientDetD0/training/train/ckpt-41'\n",
        "configs = config_util.get_configs_from_pipeline_file(pipeline_config)\n",
        "model_config = configs['model']\n",
        "#from object_detection.builders import model_builder\n",
        "detection_model = model_builder.build(model_config=model_config, is_training=False)\n",
        "\n",
        "# Restore checkpoint\n",
        "ckpt = tf.compat.v2.train.Checkpoint(\n",
        "      model=detection_model)\n",
        "ckpt.restore(os.path.join('/content/drive/My Drive/SocialDistance/DPDM/EfficientDetD0/training/ckpt-41'))\n",
        "\n",
        "def get_model_detection_function(model):\n",
        "  \"\"\"Get a tf.function for detection.\"\"\"\n",
        "\n",
        "  @tf.function\n",
        "  def detect_fn(image):\n",
        "    \"\"\"Detect objects in image.\"\"\"\n",
        "\n",
        "    image, shapes = model.preprocess(image)\n",
        "    prediction_dict = model.predict(image, shapes)\n",
        "    detections = model.postprocess(prediction_dict, shapes)\n",
        "\n",
        "    return detections, prediction_dict, tf.reshape(shapes, [-1])\n",
        "\n",
        "  return detect_fn\n",
        "\n",
        "detect_fn = get_model_detection_function(detection_model)\n",
        "\n",
        "#map labels for inference decoding\n",
        "label_map_path = configs['eval_input_config'].label_map_path\n",
        "label_map = label_map_util.load_labelmap(label_map_path)\n",
        "categories = label_map_util.convert_label_map_to_categories(\n",
        "    label_map,\n",
        "    max_num_classes=label_map_util.get_max_label_map_index(label_map),\n",
        "    use_display_name=True)\n",
        "category_index = label_map_util.create_category_index(categories)\n",
        "label_map_dict = label_map_util.get_label_map_dict(label_map, use_display_name=True)"
      ],
      "execution_count": 14,
      "outputs": []
    },
    {
      "cell_type": "code",
      "metadata": {
        "id": "HBwY1sNMMRbn",
        "outputId": "0c7a8385-7871-49b6-fa8e-6ccb1e6da049",
        "colab": {
          "base_uri": "https://localhost:8080/",
          "height": 241
        }
      },
      "source": [
        "import cv2\n",
        "import glob\n",
        "import os\n",
        "from PIL import Image\n",
        "\n",
        "# wherever your test images now live \n",
        "TEST_IMAGE_PATHS = glob.glob('/content/drive/My Drive/SocialDistance/DPDM/EfficientDetD0/Data/output/*.jpg')\n",
        "\n",
        "for image_path in TEST_IMAGE_PATHS:\n",
        "    # load image into np array\n",
        "    image_np = load_rgb_image_into_numpy_array(image_path)\n",
        "    # convert to input tensor ?\n",
        "    input_tensor = tf.convert_to_tensor(np.expand_dims(image_np, 0), dtype=tf.float32)\n",
        "    # run detect_fun on input tensor\n",
        "    detections, predictions_dict, shapes = detect_fn(input_tensor)\n",
        "    # start labels at 1 instead of 0?\n",
        "    label_id_offset = 1\n",
        "    # make a copy of np image\n",
        "    image_np_with_detections = image_np.copy()\n",
        "    # add bounding boxes and labels to image\n",
        "    viz_utils.visualize_boxes_and_labels_on_image_array(\n",
        "          image_np_with_detections,\n",
        "          detections['detection_boxes'][0].numpy(),\n",
        "          (detections['detection_classes'][0].numpy() + label_id_offset).astype(int),\n",
        "          detections['detection_scores'][0].numpy(),\n",
        "          category_index,\n",
        "          use_normalized_coordinates=True,\n",
        "          max_boxes_to_draw=200,\n",
        "          min_score_thresh=.5,\n",
        "          agnostic_mode=False,\n",
        "    )\n",
        "    # get the output path for writing results (i'm tacking on bb_ to the names so i can easily identify them as\n",
        "    # having been annotated)\n",
        "    output_path = os.path.join(os.path.dirname(image_path), \"results\", \"bb_\" + os.path.basename(image_path))\n",
        "    # convert to a PIL Image for writing\n",
        "    save_image = Image.fromarray(image_np_with_detections)\n",
        "    # write to file\n",
        "    save_image.save(output_path)"
      ],
      "execution_count": 16,
      "outputs": [
        {
          "output_type": "stream",
          "text": [
            "WARNING:tensorflow:5 out of the last 11 calls to <function get_model_detection_function.<locals>.detect_fn at 0x7f24bcfc7e18> triggered tf.function retracing. Tracing is expensive and the excessive number of tracings could be due to (1) creating @tf.function repeatedly in a loop, (2) passing tensors with different shapes, (3) passing Python objects instead of tensors. For (1), please define your @tf.function outside of the loop. For (2), @tf.function has experimental_relax_shapes=True option that relaxes argument shapes that can avoid unnecessary retracing. For (3), please refer to https://www.tensorflow.org/tutorials/customization/performance#python_or_tensor_args and https://www.tensorflow.org/api_docs/python/tf/function for  more details.\n"
          ],
          "name": "stdout"
        },
        {
          "output_type": "stream",
          "text": [
            "WARNING:tensorflow:5 out of the last 11 calls to <function get_model_detection_function.<locals>.detect_fn at 0x7f24bcfc7e18> triggered tf.function retracing. Tracing is expensive and the excessive number of tracings could be due to (1) creating @tf.function repeatedly in a loop, (2) passing tensors with different shapes, (3) passing Python objects instead of tensors. For (1), please define your @tf.function outside of the loop. For (2), @tf.function has experimental_relax_shapes=True option that relaxes argument shapes that can avoid unnecessary retracing. For (3), please refer to https://www.tensorflow.org/tutorials/customization/performance#python_or_tensor_args and https://www.tensorflow.org/api_docs/python/tf/function for  more details.\n"
          ],
          "name": "stderr"
        },
        {
          "output_type": "stream",
          "text": [
            "WARNING:tensorflow:5 out of the last 11 calls to <function get_model_detection_function.<locals>.detect_fn at 0x7f24bcfc7e18> triggered tf.function retracing. Tracing is expensive and the excessive number of tracings could be due to (1) creating @tf.function repeatedly in a loop, (2) passing tensors with different shapes, (3) passing Python objects instead of tensors. For (1), please define your @tf.function outside of the loop. For (2), @tf.function has experimental_relax_shapes=True option that relaxes argument shapes that can avoid unnecessary retracing. For (3), please refer to https://www.tensorflow.org/tutorials/customization/performance#python_or_tensor_args and https://www.tensorflow.org/api_docs/python/tf/function for  more details.\n"
          ],
          "name": "stdout"
        },
        {
          "output_type": "stream",
          "text": [
            "WARNING:tensorflow:5 out of the last 11 calls to <function get_model_detection_function.<locals>.detect_fn at 0x7f24bcfc7e18> triggered tf.function retracing. Tracing is expensive and the excessive number of tracings could be due to (1) creating @tf.function repeatedly in a loop, (2) passing tensors with different shapes, (3) passing Python objects instead of tensors. For (1), please define your @tf.function outside of the loop. For (2), @tf.function has experimental_relax_shapes=True option that relaxes argument shapes that can avoid unnecessary retracing. For (3), please refer to https://www.tensorflow.org/tutorials/customization/performance#python_or_tensor_args and https://www.tensorflow.org/api_docs/python/tf/function for  more details.\n"
          ],
          "name": "stderr"
        },
        {
          "output_type": "stream",
          "text": [
            "WARNING:tensorflow:5 out of the last 11 calls to <function get_model_detection_function.<locals>.detect_fn at 0x7f24bcfc7e18> triggered tf.function retracing. Tracing is expensive and the excessive number of tracings could be due to (1) creating @tf.function repeatedly in a loop, (2) passing tensors with different shapes, (3) passing Python objects instead of tensors. For (1), please define your @tf.function outside of the loop. For (2), @tf.function has experimental_relax_shapes=True option that relaxes argument shapes that can avoid unnecessary retracing. For (3), please refer to https://www.tensorflow.org/tutorials/customization/performance#python_or_tensor_args and https://www.tensorflow.org/api_docs/python/tf/function for  more details.\n"
          ],
          "name": "stdout"
        },
        {
          "output_type": "stream",
          "text": [
            "WARNING:tensorflow:5 out of the last 11 calls to <function get_model_detection_function.<locals>.detect_fn at 0x7f24bcfc7e18> triggered tf.function retracing. Tracing is expensive and the excessive number of tracings could be due to (1) creating @tf.function repeatedly in a loop, (2) passing tensors with different shapes, (3) passing Python objects instead of tensors. For (1), please define your @tf.function outside of the loop. For (2), @tf.function has experimental_relax_shapes=True option that relaxes argument shapes that can avoid unnecessary retracing. For (3), please refer to https://www.tensorflow.org/tutorials/customization/performance#python_or_tensor_args and https://www.tensorflow.org/api_docs/python/tf/function for  more details.\n"
          ],
          "name": "stderr"
        },
        {
          "output_type": "stream",
          "text": [
            "WARNING:tensorflow:5 out of the last 11 calls to <function get_model_detection_function.<locals>.detect_fn at 0x7f24bcfc7e18> triggered tf.function retracing. Tracing is expensive and the excessive number of tracings could be due to (1) creating @tf.function repeatedly in a loop, (2) passing tensors with different shapes, (3) passing Python objects instead of tensors. For (1), please define your @tf.function outside of the loop. For (2), @tf.function has experimental_relax_shapes=True option that relaxes argument shapes that can avoid unnecessary retracing. For (3), please refer to https://www.tensorflow.org/tutorials/customization/performance#python_or_tensor_args and https://www.tensorflow.org/api_docs/python/tf/function for  more details.\n"
          ],
          "name": "stdout"
        },
        {
          "output_type": "stream",
          "text": [
            "WARNING:tensorflow:5 out of the last 11 calls to <function get_model_detection_function.<locals>.detect_fn at 0x7f24bcfc7e18> triggered tf.function retracing. Tracing is expensive and the excessive number of tracings could be due to (1) creating @tf.function repeatedly in a loop, (2) passing tensors with different shapes, (3) passing Python objects instead of tensors. For (1), please define your @tf.function outside of the loop. For (2), @tf.function has experimental_relax_shapes=True option that relaxes argument shapes that can avoid unnecessary retracing. For (3), please refer to https://www.tensorflow.org/tutorials/customization/performance#python_or_tensor_args and https://www.tensorflow.org/api_docs/python/tf/function for  more details.\n"
          ],
          "name": "stderr"
        },
        {
          "output_type": "stream",
          "text": [
            "WARNING:tensorflow:6 out of the last 12 calls to <function get_model_detection_function.<locals>.detect_fn at 0x7f24bcfc7e18> triggered tf.function retracing. Tracing is expensive and the excessive number of tracings could be due to (1) creating @tf.function repeatedly in a loop, (2) passing tensors with different shapes, (3) passing Python objects instead of tensors. For (1), please define your @tf.function outside of the loop. For (2), @tf.function has experimental_relax_shapes=True option that relaxes argument shapes that can avoid unnecessary retracing. For (3), please refer to https://www.tensorflow.org/tutorials/customization/performance#python_or_tensor_args and https://www.tensorflow.org/api_docs/python/tf/function for  more details.\n"
          ],
          "name": "stdout"
        },
        {
          "output_type": "stream",
          "text": [
            "WARNING:tensorflow:6 out of the last 12 calls to <function get_model_detection_function.<locals>.detect_fn at 0x7f24bcfc7e18> triggered tf.function retracing. Tracing is expensive and the excessive number of tracings could be due to (1) creating @tf.function repeatedly in a loop, (2) passing tensors with different shapes, (3) passing Python objects instead of tensors. For (1), please define your @tf.function outside of the loop. For (2), @tf.function has experimental_relax_shapes=True option that relaxes argument shapes that can avoid unnecessary retracing. For (3), please refer to https://www.tensorflow.org/tutorials/customization/performance#python_or_tensor_args and https://www.tensorflow.org/api_docs/python/tf/function for  more details.\n"
          ],
          "name": "stderr"
        },
        {
          "output_type": "stream",
          "text": [
            "WARNING:tensorflow:7 out of the last 14 calls to <function get_model_detection_function.<locals>.detect_fn at 0x7f24bcfc7e18> triggered tf.function retracing. Tracing is expensive and the excessive number of tracings could be due to (1) creating @tf.function repeatedly in a loop, (2) passing tensors with different shapes, (3) passing Python objects instead of tensors. For (1), please define your @tf.function outside of the loop. For (2), @tf.function has experimental_relax_shapes=True option that relaxes argument shapes that can avoid unnecessary retracing. For (3), please refer to https://www.tensorflow.org/tutorials/customization/performance#python_or_tensor_args and https://www.tensorflow.org/api_docs/python/tf/function for  more details.\n"
          ],
          "name": "stdout"
        },
        {
          "output_type": "stream",
          "text": [
            "WARNING:tensorflow:7 out of the last 14 calls to <function get_model_detection_function.<locals>.detect_fn at 0x7f24bcfc7e18> triggered tf.function retracing. Tracing is expensive and the excessive number of tracings could be due to (1) creating @tf.function repeatedly in a loop, (2) passing tensors with different shapes, (3) passing Python objects instead of tensors. For (1), please define your @tf.function outside of the loop. For (2), @tf.function has experimental_relax_shapes=True option that relaxes argument shapes that can avoid unnecessary retracing. For (3), please refer to https://www.tensorflow.org/tutorials/customization/performance#python_or_tensor_args and https://www.tensorflow.org/api_docs/python/tf/function for  more details.\n"
          ],
          "name": "stderr"
        }
      ]
    }
  ]
}